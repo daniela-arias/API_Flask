{
 "cells": [
  {
   "cell_type": "code",
   "execution_count": 5,
   "id": "5968fbb3",
   "metadata": {},
   "outputs": [],
   "source": [
    "import pandas as pd\n",
    "import sys\n",
    "sys.path.append('../')"
   ]
  },
  {
   "cell_type": "code",
   "execution_count": 6,
   "id": "fc30b3f5",
   "metadata": {},
   "outputs": [
    {
     "name": "stdout",
     "output_type": "stream",
     "text": [
      "/Users/danielaarias/Ironhack/Semana_06/API_Flask/Notebooks\r\n"
     ]
    }
   ],
   "source": [
    "!pwd"
   ]
  },
  {
   "cell_type": "code",
   "execution_count": 19,
   "id": "17996c62",
   "metadata": {},
   "outputs": [
    {
     "name": "stderr",
     "output_type": "stream",
     "text": [
      "/usr/local/Caskroom/miniconda/base/envs/Ironhack/lib/python3.8/site-packages/IPython/core/interactiveshell.py:3417: FutureWarning: The error_bad_lines argument has been deprecated and will be removed in a future version.\n",
      "\n",
      "\n",
      "  exec(code_obj, self.user_global_ns, self.user_ns)\n",
      "b'Skipping line 32288: expected 5 fields, saw 7\\nSkipping line 32351: expected 5 fields, saw 6\\nSkipping line 32390: expected 5 fields, saw 6\\nSkipping line 32583: expected 5 fields, saw 6\\nSkipping line 32585: expected 5 fields, saw 6\\nSkipping line 35684: expected 5 fields, saw 6\\nSkipping line 62132: expected 5 fields, saw 6\\nSkipping line 86637: expected 5 fields, saw 6\\nSkipping line 86722: expected 5 fields, saw 6\\nSkipping line 86914: expected 5 fields, saw 6\\nSkipping line 86960: expected 5 fields, saw 6\\nSkipping line 87010: expected 5 fields, saw 6\\nSkipping line 87011: expected 5 fields, saw 6\\nSkipping line 87086: expected 5 fields, saw 6\\nSkipping line 120607: expected 5 fields, saw 6\\nSkipping line 120719: expected 5 fields, saw 7\\nSkipping line 120739: expected 5 fields, saw 6\\nSkipping line 120783: expected 5 fields, saw 6\\nSkipping line 130284: expected 5 fields, saw 7\\nSkipping line 131048: expected 5 fields, saw 6\\n'\n",
      "b'Skipping line 150955: expected 5 fields, saw 8\\nSkipping line 162777: expected 5 fields, saw 11\\nSkipping line 162778: expected 5 fields, saw 11\\nSkipping line 162830: expected 5 fields, saw 9\\nSkipping line 162864: expected 5 fields, saw 11\\nSkipping line 162883: expected 5 fields, saw 8\\nSkipping line 190170: expected 5 fields, saw 6\\nSkipping line 195924: expected 5 fields, saw 6\\nSkipping line 196054: expected 5 fields, saw 6\\nSkipping line 196088: expected 5 fields, saw 6\\nSkipping line 200335: expected 5 fields, saw 6\\nSkipping line 200453: expected 5 fields, saw 6\\nSkipping line 200863: expected 5 fields, saw 6\\nSkipping line 200913: expected 5 fields, saw 6\\nSkipping line 200934: expected 5 fields, saw 6\\nSkipping line 200991: expected 5 fields, saw 6\\nSkipping line 209214: expected 5 fields, saw 6\\nSkipping line 209271: expected 5 fields, saw 6\\nSkipping line 212476: expected 5 fields, saw 17\\nSkipping line 212477: expected 5 fields, saw 12\\nSkipping line 212490: expected 5 fields, saw 12\\nSkipping line 212493: expected 5 fields, saw 10\\nSkipping line 212514: expected 5 fields, saw 9\\nSkipping line 212515: expected 5 fields, saw 12\\nSkipping line 212556: expected 5 fields, saw 12\\nSkipping line 212562: expected 5 fields, saw 8\\nSkipping line 212567: expected 5 fields, saw 12\\nSkipping line 212575: expected 5 fields, saw 12\\nSkipping line 212582: expected 5 fields, saw 14\\nSkipping line 212595: expected 5 fields, saw 11\\nSkipping line 212600: expected 5 fields, saw 8\\nSkipping line 212652: expected 5 fields, saw 11\\nSkipping line 212655: expected 5 fields, saw 8\\nSkipping line 212696: expected 5 fields, saw 9\\nSkipping line 212700: expected 5 fields, saw 35\\nSkipping line 212704: expected 5 fields, saw 9\\nSkipping line 212736: expected 5 fields, saw 26\\nSkipping line 212737: expected 5 fields, saw 12\\nSkipping line 212738: expected 5 fields, saw 34\\nSkipping line 212740: expected 5 fields, saw 7\\nSkipping line 212741: expected 5 fields, saw 11\\nSkipping line 212742: expected 5 fields, saw 11\\nSkipping line 212743: expected 5 fields, saw 12\\nSkipping line 212744: expected 5 fields, saw 11\\nSkipping line 212745: expected 5 fields, saw 10\\nSkipping line 212746: expected 5 fields, saw 17\\nSkipping line 212747: expected 5 fields, saw 10\\nSkipping line 212748: expected 5 fields, saw 21\\nSkipping line 212749: expected 5 fields, saw 14\\nSkipping line 212755: expected 5 fields, saw 9\\nSkipping line 212756: expected 5 fields, saw 10\\nSkipping line 212757: expected 5 fields, saw 14\\nSkipping line 212758: expected 5 fields, saw 10\\nSkipping line 212759: expected 5 fields, saw 7\\nSkipping line 212760: expected 5 fields, saw 17\\nSkipping line 212768: expected 5 fields, saw 9\\nSkipping line 212774: expected 5 fields, saw 12\\nSkipping line 212775: expected 5 fields, saw 11\\nSkipping line 212784: expected 5 fields, saw 11\\nSkipping line 212790: expected 5 fields, saw 29\\nSkipping line 212791: expected 5 fields, saw 12\\nSkipping line 212888: expected 5 fields, saw 12\\nSkipping line 212895: expected 5 fields, saw 7\\nSkipping line 212901: expected 5 fields, saw 8\\nSkipping line 212909: expected 5 fields, saw 21\\nSkipping line 212910: expected 5 fields, saw 19\\nSkipping line 212912: expected 5 fields, saw 19\\nSkipping line 212913: expected 5 fields, saw 14\\nSkipping line 212914: expected 5 fields, saw 19\\nSkipping line 212915: expected 5 fields, saw 19\\nSkipping line 212916: expected 5 fields, saw 12\\nSkipping line 212918: expected 5 fields, saw 18\\nSkipping line 220002: expected 5 fields, saw 6\\nSkipping line 223476: expected 5 fields, saw 6\\nSkipping line 223670: expected 5 fields, saw 6\\nSkipping line 227241: expected 5 fields, saw 6\\nSkipping line 227687: expected 5 fields, saw 6\\nSkipping line 227795: expected 5 fields, saw 6\\nSkipping line 227850: expected 5 fields, saw 6\\nSkipping line 228956: expected 5 fields, saw 6\\nSkipping line 229142: expected 5 fields, saw 6\\nSkipping line 229252: expected 5 fields, saw 6\\nSkipping line 229283: expected 5 fields, saw 6\\nSkipping line 229343: expected 5 fields, saw 6\\nSkipping line 237190: expected 5 fields, saw 6\\nSkipping line 237212: expected 5 fields, saw 6\\nSkipping line 237475: expected 5 fields, saw 6\\nSkipping line 237680: expected 5 fields, saw 6\\nSkipping line 239909: expected 5 fields, saw 6\\nSkipping line 242513: expected 5 fields, saw 6\\nSkipping line 242621: expected 5 fields, saw 6\\nSkipping line 252471: expected 5 fields, saw 10\\nSkipping line 254823: expected 5 fields, saw 6\\nSkipping line 257362: expected 5 fields, saw 6\\nSkipping line 260304: expected 5 fields, saw 11\\nSkipping line 261241: expected 5 fields, saw 11\\nSkipping line 261309: expected 5 fields, saw 6\\nSkipping line 261343: expected 5 fields, saw 6\\nSkipping line 261432: expected 5 fields, saw 6\\nSkipping line 261461: expected 5 fields, saw 6\\nSkipping line 261520: expected 5 fields, saw 14\\nSkipping line 261521: expected 5 fields, saw 13\\nSkipping line 261525: expected 5 fields, saw 13\\nSkipping line 261533: expected 5 fields, saw 6\\nSkipping line 261558: expected 5 fields, saw 7\\nSkipping line 261560: expected 5 fields, saw 7\\nSkipping line 262063: expected 5 fields, saw 6\\nSkipping line 262098: expected 5 fields, saw 6\\n'\n",
      "b'Skipping line 269343: expected 5 fields, saw 6\\nSkipping line 269435: expected 5 fields, saw 6\\nSkipping line 278994: expected 5 fields, saw 9\\nSkipping line 278995: expected 5 fields, saw 9\\nSkipping line 278996: expected 5 fields, saw 15\\nSkipping line 279001: expected 5 fields, saw 15\\nSkipping line 279038: expected 5 fields, saw 16\\nSkipping line 279040: expected 5 fields, saw 10\\nSkipping line 279041: expected 5 fields, saw 19\\nSkipping line 279045: expected 5 fields, saw 13\\nSkipping line 279047: expected 5 fields, saw 9\\nSkipping line 279058: expected 5 fields, saw 10\\nSkipping line 279069: expected 5 fields, saw 11\\nSkipping line 279087: expected 5 fields, saw 11\\nSkipping line 279094: expected 5 fields, saw 12\\nSkipping line 279116: expected 5 fields, saw 22\\nSkipping line 279131: expected 5 fields, saw 16\\nSkipping line 279152: expected 5 fields, saw 10\\nSkipping line 279155: expected 5 fields, saw 19\\nSkipping line 279159: expected 5 fields, saw 9\\nSkipping line 279199: expected 5 fields, saw 36\\nSkipping line 279211: expected 5 fields, saw 9\\nSkipping line 279213: expected 5 fields, saw 13\\nSkipping line 279214: expected 5 fields, saw 9\\nSkipping line 279233: expected 5 fields, saw 14\\nSkipping line 279253: expected 5 fields, saw 15\\nSkipping line 279345: expected 5 fields, saw 13\\nSkipping line 279346: expected 5 fields, saw 10\\nSkipping line 279379: expected 5 fields, saw 9\\nSkipping line 279434: expected 5 fields, saw 17\\nSkipping line 279440: expected 5 fields, saw 14\\nSkipping line 279442: expected 5 fields, saw 14\\nSkipping line 279443: expected 5 fields, saw 10\\nSkipping line 279452: expected 5 fields, saw 16\\nSkipping line 279455: expected 5 fields, saw 9\\nSkipping line 279456: expected 5 fields, saw 12\\nSkipping line 279457: expected 5 fields, saw 10\\nSkipping line 279458: expected 5 fields, saw 10\\n'\n"
     ]
    }
   ],
   "source": [
    "df = pd.read_csv('../Data/movie_lines.tsv', sep='\\t',error_bad_lines=False)"
   ]
  },
  {
   "cell_type": "code",
   "execution_count": 20,
   "id": "a975aa4c",
   "metadata": {},
   "outputs": [
    {
     "data": {
      "text/html": [
       "<div>\n",
       "<style scoped>\n",
       "    .dataframe tbody tr th:only-of-type {\n",
       "        vertical-align: middle;\n",
       "    }\n",
       "\n",
       "    .dataframe tbody tr th {\n",
       "        vertical-align: top;\n",
       "    }\n",
       "\n",
       "    .dataframe thead th {\n",
       "        text-align: right;\n",
       "    }\n",
       "</style>\n",
       "<table border=\"1\" class=\"dataframe\">\n",
       "  <thead>\n",
       "    <tr style=\"text-align: right;\">\n",
       "      <th></th>\n",
       "      <th>L1045</th>\n",
       "      <th>u0</th>\n",
       "      <th>m0</th>\n",
       "      <th>BIANCA</th>\n",
       "      <th>They do not!</th>\n",
       "    </tr>\n",
       "  </thead>\n",
       "  <tbody>\n",
       "    <tr>\n",
       "      <th>0</th>\n",
       "      <td>L1044</td>\n",
       "      <td>u2</td>\n",
       "      <td>m0</td>\n",
       "      <td>CAMERON</td>\n",
       "      <td>They do to!</td>\n",
       "    </tr>\n",
       "    <tr>\n",
       "      <th>1</th>\n",
       "      <td>L985</td>\n",
       "      <td>u0</td>\n",
       "      <td>m0</td>\n",
       "      <td>BIANCA</td>\n",
       "      <td>I hope so.</td>\n",
       "    </tr>\n",
       "    <tr>\n",
       "      <th>2</th>\n",
       "      <td>L984</td>\n",
       "      <td>u2</td>\n",
       "      <td>m0</td>\n",
       "      <td>CAMERON</td>\n",
       "      <td>She okay?</td>\n",
       "    </tr>\n",
       "    <tr>\n",
       "      <th>3</th>\n",
       "      <td>L925</td>\n",
       "      <td>u0</td>\n",
       "      <td>m0</td>\n",
       "      <td>BIANCA</td>\n",
       "      <td>Let's go.</td>\n",
       "    </tr>\n",
       "    <tr>\n",
       "      <th>4</th>\n",
       "      <td>L924</td>\n",
       "      <td>u2</td>\n",
       "      <td>m0</td>\n",
       "      <td>CAMERON</td>\n",
       "      <td>Wow</td>\n",
       "    </tr>\n",
       "  </tbody>\n",
       "</table>\n",
       "</div>"
      ],
      "text/plain": [
       "   L1045  u0  m0   BIANCA They do not!\n",
       "0  L1044  u2  m0  CAMERON  They do to!\n",
       "1   L985  u0  m0   BIANCA   I hope so.\n",
       "2   L984  u2  m0  CAMERON    She okay?\n",
       "3   L925  u0  m0   BIANCA    Let's go.\n",
       "4   L924  u2  m0  CAMERON          Wow"
      ]
     },
     "execution_count": 20,
     "metadata": {},
     "output_type": "execute_result"
    }
   ],
   "source": [
    "df.head()"
   ]
  },
  {
   "cell_type": "code",
   "execution_count": 21,
   "id": "4af8131c",
   "metadata": {},
   "outputs": [
    {
     "data": {
      "text/plain": [
       "(293201, 5)"
      ]
     },
     "execution_count": 21,
     "metadata": {},
     "output_type": "execute_result"
    }
   ],
   "source": [
    "df.shape"
   ]
  },
  {
   "cell_type": "code",
   "execution_count": 22,
   "id": "111811fa",
   "metadata": {},
   "outputs": [
    {
     "name": "stdout",
     "output_type": "stream",
     "text": [
      "<class 'pandas.core.frame.DataFrame'>\n",
      "RangeIndex: 293201 entries, 0 to 293200\n",
      "Data columns (total 5 columns):\n",
      " #   Column        Non-Null Count   Dtype \n",
      "---  ------        --------------   ----- \n",
      " 0   L1045         293201 non-null  object\n",
      " 1   u0            288916 non-null  object\n",
      " 2   m0            288916 non-null  object\n",
      " 3   BIANCA        288873 non-null  object\n",
      " 4   They do not!  288662 non-null  object\n",
      "dtypes: object(5)\n",
      "memory usage: 11.2+ MB\n"
     ]
    }
   ],
   "source": [
    "df.info()"
   ]
  },
  {
   "cell_type": "code",
   "execution_count": null,
   "id": "a6c79b11",
   "metadata": {},
   "outputs": [],
   "source": []
  },
  {
   "cell_type": "code",
   "execution_count": null,
   "id": "ee4d7ad7",
   "metadata": {},
   "outputs": [],
   "source": []
  }
 ],
 "metadata": {
  "kernelspec": {
   "display_name": "ironhack",
   "language": "python",
   "name": "ironhack"
  },
  "language_info": {
   "codemirror_mode": {
    "name": "ipython",
    "version": 3
   },
   "file_extension": ".py",
   "mimetype": "text/x-python",
   "name": "python",
   "nbconvert_exporter": "python",
   "pygments_lexer": "ipython3",
   "version": "3.8.10"
  }
 },
 "nbformat": 4,
 "nbformat_minor": 5
}
